{
  "nbformat": 4,
  "nbformat_minor": 0,
  "metadata": {
    "colab": {
      "name": "augmented_cnn.ipynb",
      "version": "0.3.2",
      "provenance": [],
      "collapsed_sections": [],
      "include_colab_link": true
    },
    "kernelspec": {
      "name": "python3",
      "display_name": "Python 3"
    },
    "accelerator": "GPU"
  },
  "cells": [
    {
      "cell_type": "markdown",
      "metadata": {
        "id": "view-in-github",
        "colab_type": "text"
      },
      "source": [
        "<a href=\"https://colab.research.google.com/github/Rojan116/Deep_learning_Image_recognition/blob/master/augmented_cnn_36_class.ipynb\" target=\"_parent\"><img src=\"https://colab.research.google.com/assets/colab-badge.svg\" alt=\"Open In Colab\"/></a>"
      ]
    },
    {
      "cell_type": "code",
      "metadata": {
        "id": "Fa0w7bIx81Sq",
        "colab_type": "code",
        "outputId": "9d0aeeb6-3efa-42f9-d53b-8206360f6553",
        "colab": {
          "base_uri": "https://localhost:8080/",
          "height": 153
        }
      },
      "source": [
        "!git clone https://github.com/Rojan116/NepaliHandWrittenAlphabetRecognizer.git"
      ],
      "execution_count": 1,
      "outputs": [
        {
          "output_type": "stream",
          "text": [
            "Cloning into 'NepaliHandWrittenAlphabetRecognizer'...\n",
            "remote: Enumerating objects: 92109, done.\u001b[K\n",
            "remote: Counting objects: 100% (92109/92109), done.\u001b[K\n",
            "remote: Compressing objects: 100% (92109/92109), done.\u001b[K\n",
            "remote: Total 92109 (delta 18), reused 92072 (delta 0), pack-reused 0\u001b[K\n",
            "Receiving objects: 100% (92109/92109), 56.87 MiB | 12.94 MiB/s, done.\n",
            "Resolving deltas: 100% (18/18), done.\n",
            "Checking out files: 100% (92013/92013), done.\n"
          ],
          "name": "stdout"
        }
      ]
    },
    {
      "cell_type": "code",
      "metadata": {
        "id": "jHtN-fzK9KOB",
        "colab_type": "code",
        "outputId": "125acdf5-448b-4046-93ea-136ec937e196",
        "colab": {
          "base_uri": "https://localhost:8080/",
          "height": 34
        }
      },
      "source": [
        "ls"
      ],
      "execution_count": 2,
      "outputs": [
        {
          "output_type": "stream",
          "text": [
            "\u001b[0m\u001b[01;34mNepaliHandWrittenAlphabetRecognizer\u001b[0m/  \u001b[01;34msample_data\u001b[0m/\n"
          ],
          "name": "stdout"
        }
      ]
    },
    {
      "cell_type": "code",
      "metadata": {
        "id": "6-Y4SAWO9Q1G",
        "colab_type": "code",
        "outputId": "c4320382-1631-42f2-969e-5ced2142070c",
        "colab": {
          "base_uri": "https://localhost:8080/",
          "height": 34
        }
      },
      "source": [
        "cd NepaliHandWrittenAlphabetRecognizer"
      ],
      "execution_count": 3,
      "outputs": [
        {
          "output_type": "stream",
          "text": [
            "/content/NepaliHandWrittenAlphabetRecognizer\n"
          ],
          "name": "stdout"
        }
      ]
    },
    {
      "cell_type": "code",
      "metadata": {
        "id": "AK0RS0g19VaY",
        "colab_type": "code",
        "outputId": "ecee1f8e-ee37-4d64-f63f-610054979b30",
        "colab": {
          "base_uri": "https://localhost:8080/",
          "height": 34
        }
      },
      "source": [
        "import cv2\n",
        "import matplotlib.pyplot as plt\n",
        "import numpy as np\n",
        "import os\n",
        "import tensorflow as tf\n",
        "from tqdm import tqdm\n",
        "import random\n",
        "from keras.utils import to_categorical\n",
        "from keras.preprocessing.image import ImageDataGenerator\n",
        "from keras.callbacks import ReduceLROnPlateau\n",
        "\n",
        "from keras.models import Sequential\n",
        "from keras.layers import *\n",
        "from keras.optimizers import *"
      ],
      "execution_count": 4,
      "outputs": [
        {
          "output_type": "stream",
          "text": [
            "Using TensorFlow backend.\n"
          ],
          "name": "stderr"
        }
      ]
    },
    {
      "cell_type": "code",
      "metadata": {
        "id": "XUB5C0nB9YOg",
        "colab_type": "code",
        "colab": {}
      },
      "source": [
        "PATH = os.getcwd()\n",
        "DATADIR = PATH + '/dhrcdata/Train'\t\t\n",
        "train_data_path = PATH + '/dhrcdata/Train'\n",
        "test_data_path = PATH + '/dhrcdata/Test'\n"
      ],
      "execution_count": 0,
      "outputs": []
    },
    {
      "cell_type": "code",
      "metadata": {
        "id": "MOK18pvNNPTZ",
        "colab_type": "code",
        "outputId": "fd52c048-0661-4074-a54c-b6278846b539",
        "colab": {
          "base_uri": "https://localhost:8080/",
          "height": 71
        }
      },
      "source": [
        "#counting categories\n",
        "new_cat = []\n",
        "for x in os.listdir(train_data_path):\n",
        "  new_cat.append(x)\n",
        "\n",
        "print(new_cat)  \n",
        "classes = np.unique(new_cat)\n",
        "print(len(classes))\n"
      ],
      "execution_count": 6,
      "outputs": [
        {
          "output_type": "stream",
          "text": [
            "['character_23_ba', 'character_25_ma', 'character_17_tha', 'digit_1', 'character_33_ha', 'character_11_taamatar', 'character_18_da', 'character_16_tabala', 'digit_9', 'character_7_chha', 'character_12_thaa', 'character_6_cha', 'character_29_waw', 'digit_3', 'character_9_jha', 'character_19_dha', 'character_3_ga', 'character_13_daa', 'character_26_yaw', 'character_34_chhya', 'character_8_ja', 'character_30_motosaw', 'character_1_ka', 'character_24_bha', 'character_35_tra', 'character_4_gha', 'character_14_dhaa', 'character_2_kha', 'character_20_na', 'character_36_gya', 'character_10_yna', 'digit_0', 'character_22_pha', 'character_5_kna', 'digit_7', 'character_15_adna', 'digit_5', 'digit_8', 'digit_2', 'character_28_la', 'character_27_ra', 'character_21_pa', 'digit_4', 'character_32_patalosaw', 'character_31_petchiryakha', 'digit_6']\n",
            "46\n"
          ],
          "name": "stdout"
        }
      ]
    },
    {
      "cell_type": "code",
      "metadata": {
        "id": "kTFBK9wD9aqu",
        "colab_type": "code",
        "colab": {}
      },
      "source": [
        "CATEGORIES = [\n",
        "\n",
        "\"character_1_ka\",\"character_2_kha\",\"character_3_ga\",\"character_4_gha\",\"character_5_kna\",\n",
        "\"character_6_cha\",\"character_7_chha\",\"character_8_ja\",\"character_9_jha\",\"character_10_yna\",\n",
        "\"character_11_taamatar\",\"character_12_thaa\",\"character_13_daa\",\"character_14_dhaa\",\"character_15_adna\",\n",
        "\"character_16_tabala\",\"character_17_tha\",\"character_18_da\",\"character_19_dha\",\"character_20_na\",\"character_21_pa\",\n",
        "\"character_22_pha\",\"character_23_ba\",\"character_24_bha\",\"character_25_ma\",\"character_26_yaw\",\"character_27_ra\",\n",
        "\"character_28_la\",\"character_29_waw\",\"character_30_motosaw\",\"character_31_petchiryakha\",\"character_32_patalosaw\",\n",
        "\"character_33_ha\",\"character_34_chhya\",\"character_35_tra\",\"character_36_gya\"\n",
        "\n",
        "]\n"
      ],
      "execution_count": 0,
      "outputs": []
    },
    {
      "cell_type": "code",
      "metadata": {
        "id": "as1xbqAW9d5P",
        "colab_type": "code",
        "colab": {}
      },
      "source": [
        "IMG_SIZE = 32\n",
        "training_data = []\n",
        "testing_data = []\n",
        "\n",
        "def create_training_data():\n",
        "  for catagory in CATEGORIES:\n",
        "    path = os.path.join(train_data_path, catagory)\n",
        "    class_num = CATEGORIES.index(catagory)\n",
        "    for img in os.listdir(path):\n",
        "        try:\n",
        "          img_array = cv2.imread(os.path.join(path,img),cv2.IMREAD_GRAYSCALE)\n",
        "          new_array = cv2.resize(img_array,(IMG_SIZE,IMG_SIZE))\n",
        "          training_data.append([new_array,class_num])\n",
        "        except Exception as e:\n",
        "          pass\n",
        "\n",
        "\n",
        "\n",
        "def create_testing_data():\n",
        "  for catagory in CATEGORIES:\n",
        "    path = os.path.join(test_data_path, catagory)\n",
        "    class_num = CATEGORIES.index(catagory)\n",
        "    for img in os.listdir(path):\n",
        "        try:\n",
        "          img_array = cv2.imread(os.path.join(path,img),cv2.IMREAD_GRAYSCALE)\n",
        "          new_array = cv2.resize(img_array,(IMG_SIZE,IMG_SIZE))\n",
        "          testing_data.append([new_array,class_num])\n",
        "        except Exception as e:\n",
        "          pass\n",
        "\n",
        "\n",
        "\n",
        "create_training_data()\n",
        "create_testing_data()\n"
      ],
      "execution_count": 0,
      "outputs": []
    },
    {
      "cell_type": "code",
      "metadata": {
        "id": "_7a9Hftp9kSg",
        "colab_type": "code",
        "outputId": "af10392a-c9b4-4fcc-d152-1bf6a94fafbf",
        "colab": {
          "base_uri": "https://localhost:8080/",
          "height": 68
        }
      },
      "source": [
        "#shuffle training data for trainning diff image set in every batch\n",
        "random.shuffle(training_data)\n",
        "\n",
        "#hot encode image dataset\n",
        "\n",
        "train_x = []\n",
        "train_y = []\n",
        "test_x = []\n",
        "test_y = []\n",
        "\n",
        "\n",
        "\n",
        "#seperating features and labels from list\n",
        "for features, labels in training_data:\n",
        "\ttrain_x.append(features)\n",
        "\ttrain_y.append(labels)\n",
        "\n",
        "for features, labels in testing_data:\n",
        "\ttest_x.append(features)\n",
        "\ttest_y.append(labels)\n",
        "\n",
        "\n",
        "#converting list to array\n",
        "train_y_array = np.array(train_y)\n",
        "test_y_array = np.array(test_y)\n",
        "\n",
        "#converting image dataset to input 32*32 dataset \n",
        "\n",
        "train_image_array = np.array(train_x).reshape(-1,32,32,1)\n",
        "test_image_array = np.array(test_x).reshape(-1,32,32,1)\n",
        "\n",
        "#counting total number of class in dataset\n",
        "classes = np.unique(test_y_array)\n",
        "print(classes)\n",
        "print(\"total number of class={} \".format(len(classes)))\n",
        "\n"
      ],
      "execution_count": 9,
      "outputs": [
        {
          "output_type": "stream",
          "text": [
            "[ 0  1  2  3  4  5  6  7  8  9 10 11 12 13 14 15 16 17 18 19 20 21 22 23\n",
            " 24 25 26 27 28 29 30 31 32 33 34 35]\n",
            "total number of class=36 \n"
          ],
          "name": "stdout"
        }
      ]
    },
    {
      "cell_type": "code",
      "metadata": {
        "id": "DJyBFLIrFs_G",
        "colab_type": "code",
        "outputId": "2fc7763a-4534-4bae-d209-6b58fdce3367",
        "colab": {
          "base_uri": "https://localhost:8080/",
          "height": 269
        }
      },
      "source": [
        "# convert from int to float\n",
        "x_train = train_image_array.astype('float32')\n",
        "x_test = test_image_array.astype('float32')\n",
        "# define data preparation\n",
        "datagen = ImageDataGenerator(featurewise_center=True,\n",
        "                             featurewise_std_normalization=True,\n",
        "                             rotation_range=15,\n",
        "                             width_shift_range=0.1,\n",
        "                             height_shift_range=0.1,\n",
        "                              zoom_range=0.2\n",
        "                            )\n",
        "# fit parameters from data\n",
        "datagen.fit(x_train)\n",
        "# configure batch size and retrieve one batch of images\n",
        "for X_batch, y_batch in datagen.flow(x_train, train_y, batch_size=9):\n",
        "\t# create a grid of 3x3 images\n",
        "\tfor i in range(0, 9):\n",
        "\t\tplt.subplot(330 + 1 + i)\n",
        "\t\tplt.imshow(X_batch[i].reshape(32, 32), cmap=plt.get_cmap('gray'))\n",
        "\t# show the plot\n",
        "\tplt.show()\n",
        "\tbreak"
      ],
      "execution_count": 10,
      "outputs": [
        {
          "output_type": "display_data",
          "data": {
            "image/png": "[encoded data removed]",
            "text/plain": [
              "<Figure size 432x288 with 9 Axes>"
            ]
          },
          "metadata": {
            "tags": []
          }
        }
      ]
    },
    {
      "cell_type": "code",
      "metadata": {
        "id": "OcD8KB1rGHpt",
        "colab_type": "code",
        "colab": {}
      },
      "source": [
        "\n",
        "#one hot enoded class \n",
        "train_y = to_categorical(train_y_array)\n",
        "test_y = to_categorical(test_y_array)\n",
        "\n",
        "\n",
        "train_y = np.array(train_y)\n",
        "test_y = np.array(test_y)\n",
        "\n",
        "#all train x, y and test x y are in array form now\n"
      ],
      "execution_count": 0,
      "outputs": []
    },
    {
      "cell_type": "code",
      "metadata": {
        "id": "HTyQPCKc9AuW",
        "colab_type": "code",
        "outputId": "8e867f8e-4ca2-4d17-84f9-61c4938efeed",
        "colab": {
          "base_uri": "https://localhost:8080/",
          "height": 785
        }
      },
      "source": [
        "#new model\n",
        "\n",
        "# Set the CNN model \n",
        "# my CNN architechture is In -> [[Conv2D->relu]*2 -> MaxPool2D -> Dropout]*2 -> Flatten -> Dense -> Dropout -> Out\n",
        "\n",
        "model = Sequential()\n",
        "\n",
        "model.add(Conv2D(filters = 32, kernel_size = (5,5),padding = 'Same', \n",
        "                 activation ='relu', input_shape = (32,32,1)))\n",
        "model.add(Conv2D(filters = 32, kernel_size = (5,5),padding = 'Same', \n",
        "                 activation ='relu'))\n",
        "model.add(MaxPool2D(pool_size=(2,2)))\n",
        "model.add(Dropout(0.25))\n",
        "\n",
        "\n",
        "model.add(Conv2D(filters = 64, kernel_size = (3,3),padding = 'Same', \n",
        "                 activation ='relu'))\n",
        "model.add(Conv2D(filters = 64, kernel_size = (3,3),padding = 'Same', \n",
        "                 activation ='relu'))\n",
        "model.add(MaxPool2D(pool_size=(2,2), strides=(2,2)))\n",
        "model.add(Dropout(0.25))\n",
        "\n",
        "\n",
        "model.add(Flatten())\n",
        "model.add(Dense(256, activation = \"relu\"))\n",
        "model.add(Dropout(0.5))\n",
        "model.add(Dense(36, activation = \"softmax\"))\n",
        "\n",
        "# Define the optimizer\n",
        "#optimizer = RMSprop(lr=0.001, rho=0.9, epsilon=1e-08, decay=0.0)\n",
        "optimizer = Adam(lr=0.0001)\n",
        "\n",
        "# Compile the model\n",
        "model.compile(optimizer = optimizer , loss = \"categorical_crossentropy\", metrics=[\"accuracy\"])\n",
        "\n",
        "#model.summary()\n",
        "\n",
        "history = model.fit(x=train_image_array,y=train_y,epochs=20,batch_size=100, validation_split=0.3)"
      ],
      "execution_count": 13,
      "outputs": [
        {
          "output_type": "stream",
          "text": [
            "WARNING:tensorflow:From /usr/local/lib/python3.6/dist-packages/tensorflow/python/ops/math_ops.py:3066: to_int32 (from tensorflow.python.ops.math_ops) is deprecated and will be removed in a future version.\n",
            "Instructions for updating:\n",
            "Use tf.cast instead.\n",
            "Train on 42840 samples, validate on 18360 samples\n",
            "Epoch 1/20\n",
            "42840/42840 [==============================] - 20s 472us/step - loss: 4.9221 - acc: 0.0464 - val_loss: 3.2783 - val_acc: 0.1587\n",
            "Epoch 2/20\n",
            "42840/42840 [==============================] - 16s 363us/step - loss: 2.7976 - acc: 0.2187 - val_loss: 1.3873 - val_acc: 0.6747\n",
            "Epoch 3/20\n",
            "42840/42840 [==============================] - 16s 362us/step - loss: 1.5924 - acc: 0.5265 - val_loss: 0.6418 - val_acc: 0.8306\n",
            "Epoch 4/20\n",
            "42840/42840 [==============================] - 16s 363us/step - loss: 1.0133 - acc: 0.6941 - val_loss: 0.3980 - val_acc: 0.8883\n",
            "Epoch 5/20\n",
            "42840/42840 [==============================] - 15s 362us/step - loss: 0.7427 - acc: 0.7754 - val_loss: 0.2875 - val_acc: 0.9181\n",
            "Epoch 6/20\n",
            "42840/42840 [==============================] - 16s 363us/step - loss: 0.5741 - acc: 0.8252 - val_loss: 0.2160 - val_acc: 0.9365\n",
            "Epoch 7/20\n",
            "42840/42840 [==============================] - 15s 361us/step - loss: 0.4754 - acc: 0.8547 - val_loss: 0.1770 - val_acc: 0.9471\n",
            "Epoch 8/20\n",
            "42840/42840 [==============================] - 15s 360us/step - loss: 0.3952 - acc: 0.8799 - val_loss: 0.1537 - val_acc: 0.9547\n",
            "Epoch 9/20\n",
            "42840/42840 [==============================] - 15s 361us/step - loss: 0.3305 - acc: 0.8995 - val_loss: 0.1255 - val_acc: 0.9617\n",
            "Epoch 10/20\n",
            "42840/42840 [==============================] - 15s 361us/step - loss: 0.2946 - acc: 0.9088 - val_loss: 0.1176 - val_acc: 0.9644\n",
            "Epoch 11/20\n",
            "42840/42840 [==============================] - 15s 359us/step - loss: 0.2616 - acc: 0.9193 - val_loss: 0.1001 - val_acc: 0.9690\n",
            "Epoch 12/20\n",
            "42840/42840 [==============================] - 15s 361us/step - loss: 0.2276 - acc: 0.9291 - val_loss: 0.0929 - val_acc: 0.9709\n",
            "Epoch 13/20\n",
            "42840/42840 [==============================] - 15s 361us/step - loss: 0.2021 - acc: 0.9359 - val_loss: 0.0818 - val_acc: 0.9745\n",
            "Epoch 14/20\n",
            "42840/42840 [==============================] - 15s 360us/step - loss: 0.1846 - acc: 0.9428 - val_loss: 0.0799 - val_acc: 0.9760\n",
            "Epoch 15/20\n",
            "42840/42840 [==============================] - 16s 365us/step - loss: 0.1637 - acc: 0.9486 - val_loss: 0.0724 - val_acc: 0.9767\n",
            "Epoch 16/20\n",
            "42840/42840 [==============================] - 15s 360us/step - loss: 0.1506 - acc: 0.9528 - val_loss: 0.0672 - val_acc: 0.9789\n",
            "Epoch 17/20\n",
            "42840/42840 [==============================] - 15s 360us/step - loss: 0.1403 - acc: 0.9562 - val_loss: 0.0658 - val_acc: 0.9794\n",
            "Epoch 18/20\n",
            "42840/42840 [==============================] - 15s 360us/step - loss: 0.1297 - acc: 0.9591 - val_loss: 0.0640 - val_acc: 0.9798\n",
            "Epoch 19/20\n",
            "42840/42840 [==============================] - 15s 360us/step - loss: 0.1179 - acc: 0.9623 - val_loss: 0.0610 - val_acc: 0.9812\n",
            "Epoch 20/20\n",
            "42840/42840 [==============================] - 15s 361us/step - loss: 0.1086 - acc: 0.9643 - val_loss: 0.0589 - val_acc: 0.9821\n"
          ],
          "name": "stdout"
        }
      ]
    },
    {
      "cell_type": "code",
      "metadata": {
        "id": "7X2QnE15CTcr",
        "colab_type": "code",
        "outputId": "ec22056b-bede-4963-8b33-f2ad394fab61",
        "colab": {
          "base_uri": "https://localhost:8080/",
          "height": 573
        }
      },
      "source": [
        "# summarize history for accuracy\n",
        "plt.plot(history.history['acc'])\n",
        "plt.plot(history.history['val_acc'])\n",
        "plt.title('model accuracy')\n",
        "plt.ylabel('accuracy')\n",
        "plt.xlabel('epoch')\n",
        "plt.legend(['train', 'test'], loc='upper left')\n",
        "plt.show()\n",
        "# summarize history for loss\n",
        "plt.plot(history.history['loss'])\n",
        "plt.plot(history.history['val_loss'])\n",
        "plt.title('model loss')\n",
        "plt.ylabel('loss')\n",
        "plt.xlabel('epoch')\n",
        "plt.legend(['train', 'test'], loc='upper left')\n",
        "plt.show()"
      ],
      "execution_count": 14,
      "outputs": [
        {
          "output_type": "display_data",
          "data": {
            "image/png": "[encoded data removed]",
            "text/plain": [
              "<Figure size 432x288 with 1 Axes>"
            ]
          },
          "metadata": {
            "tags": []
          }
        },
        {
          "output_type": "display_data",
          "data": {
            "image/png": "[encoded data removed]",
            "text/plain": [
              "<Figure size 432x288 with 1 Axes>"
            ]
          },
          "metadata": {
            "tags": []
          }
        }
      ]
    },
    {
      "cell_type": "code",
      "metadata": {
        "id": "nBNlMFqHKzvT",
        "colab_type": "code",
        "colab": {}
      },
      "source": [
        "img = test_x[1936].reshape(-1,32,32,1)\n",
        "belongs_to_class = test_y[1936]"
      ],
      "execution_count": 0,
      "outputs": []
    },
    {
      "cell_type": "code",
      "metadata": {
        "id": "Xtl0LNcwK9Mi",
        "colab_type": "code",
        "outputId": "40fb2e5a-cecf-4d58-e2f8-185cbfe08354",
        "colab": {
          "base_uri": "https://localhost:8080/",
          "height": 34
        }
      },
      "source": [
        "print(img.shape)"
      ],
      "execution_count": 16,
      "outputs": [
        {
          "output_type": "stream",
          "text": [
            "(1, 32, 32, 1)\n"
          ],
          "name": "stdout"
        }
      ]
    },
    {
      "cell_type": "code",
      "metadata": {
        "id": "wfkrVqc61jYz",
        "colab_type": "code",
        "colab": {}
      },
      "source": [
        "x = model.predict(img)"
      ],
      "execution_count": 0,
      "outputs": []
    },
    {
      "cell_type": "code",
      "metadata": {
        "id": "nFRTZVJLSXUq",
        "colab_type": "code",
        "outputId": "4bcbf507-a0e7-4857-c8ed-084ba6a344b1",
        "colab": {
          "base_uri": "https://localhost:8080/",
          "height": 170
        }
      },
      "source": [
        "print(x)"
      ],
      "execution_count": 18,
      "outputs": [
        {
          "output_type": "stream",
          "text": [
            "[[5.80589309e-12 1.00157871e-09 7.24582015e-13 9.18697242e-06\n",
            "  4.51105606e-08 2.48638068e-12 9.99907374e-01 8.73564459e-13\n",
            "  4.74391498e-11 2.21637314e-12 1.04072993e-10 1.75461121e-11\n",
            "  1.04475748e-06 2.77072854e-08 3.37640696e-13 8.71864918e-13\n",
            "  2.25920171e-10 2.46752370e-06 1.14918922e-10 1.21556086e-13\n",
            "  6.85736357e-10 1.76832393e-09 3.17545323e-10 6.53837268e-15\n",
            "  4.43191144e-12 4.02292505e-10 6.87698787e-09 5.21023120e-11\n",
            "  1.31153266e-09 1.77321862e-12 1.01055065e-07 7.02420664e-08\n",
            "  7.97348403e-05 8.44080084e-10 6.73591072e-10 1.45517869e-11]]\n"
          ],
          "name": "stdout"
        }
      ]
    },
    {
      "cell_type": "code",
      "metadata": {
        "id": "nK7scl2HR_ow",
        "colab_type": "code",
        "colab": {}
      },
      "source": [
        "name = CATEGORIES[np.argmax(x)]\n",
        "bc = CATEGORIES[np.argmax(belongs_to_class)]"
      ],
      "execution_count": 0,
      "outputs": []
    },
    {
      "cell_type": "code",
      "metadata": {
        "id": "8r1OJfbnVpJt",
        "colab_type": "code",
        "outputId": "13ad4c25-72d4-474f-893a-f0279f4705dd",
        "colab": {
          "base_uri": "https://localhost:8080/",
          "height": 303
        }
      },
      "source": [
        "%matplotlib inline\n",
        "imgplot = plt.imshow(test_x[1936])\n",
        "i=np.argmax(history.history['acc'])\n",
        "acc= history.history['val_acc'][19]\n",
        "acc= acc*100\n",
        "acc = np.trunc(acc)\n",
        "\n",
        "print(\"predicted image is of: {} with accuracy {}\".format(name,acc))\n",
        "print(\"Actual class label is: {}\".format(bc))\n",
        "\n"
      ],
      "execution_count": 30,
      "outputs": [
        {
          "output_type": "stream",
          "text": [
            "predicted image is of: character_7_chha with accuracy 98.0\n",
            "Actual class label is: character_7_chha\n"
          ],
          "name": "stdout"
        },
        {
          "output_type": "display_data",
          "data": {
            "image/png": "[encoded data removed]",
            "text/plain": [
              "<Figure size 432x288 with 1 Axes>"
            ]
          },
          "metadata": {
            "tags": []
          }
        }
      ]
    },
    {
      "cell_type": "code",
      "metadata": {
        "id": "8S6af1hIWEPL",
        "colab_type": "code",
        "colab": {
          "base_uri": "https://localhost:8080/",
          "height": 34
        },
        "outputId": "30ee56ae-b7c4-4a5b-f04c-9825551cb6ca"
      },
      "source": [
        ""
      ],
      "execution_count": 26,
      "outputs": [
        {
          "output_type": "stream",
          "text": [
            "0.9821350877710937\n"
          ],
          "name": "stdout"
        }
      ]
    },
    {
      "cell_type": "code",
      "metadata": {
        "id": "dvMNB9Kpqeic",
        "colab_type": "code",
        "colab": {}
      },
      "source": [
        ""
      ],
      "execution_count": 0,
      "outputs": []
    }
  ]
}
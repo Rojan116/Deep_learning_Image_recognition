{
  "nbformat": 4,
  "nbformat_minor": 0,
  "metadata": {
    "colab": {
      "name": "new_cnn_may14.ipynb",
      "version": "0.3.2",
      "provenance": [],
      "include_colab_link": true
    },
    "kernelspec": {
      "name": "python3",
      "display_name": "Python 3"
    },
    "accelerator": "GPU"
  },
  "cells": [
    {
      "cell_type": "markdown",
      "metadata": {
        "id": "view-in-github",
        "colab_type": "text"
      },
      "source": [
        "<a href=\"https://colab.research.google.com/github/Rojan116/Deep_learning_Image_recognition/blob/master/new_cnn_may14%20with%2098%25%20accuracy.ipynb\" target=\"_parent\"><img src=\"https://colab.research.google.com/assets/colab-badge.svg\" alt=\"Open In Colab\"/></a>"
      ]
    },
    {
      "cell_type": "code",
      "metadata": {
        "id": "6Uhar1qmMeGi",
        "colab_type": "code",
        "outputId": "13f3260e-58a6-4990-b274-7313b98d234d",
        "colab": {
          "base_uri": "https://localhost:8080/",
          "height": 153
        }
      },
      "source": [
        "!git clone https://github.com/Rojan116/NepaliHandWrittenAlphabetRecognizer.git"
      ],
      "execution_count": 1,
      "outputs": [
        {
          "output_type": "stream",
          "text": [
            "Cloning into 'NepaliHandWrittenAlphabetRecognizer'...\n",
            "remote: Enumerating objects: 92082, done.\u001b[K\n",
            "remote: Counting objects: 100% (92082/92082), done.\u001b[K\n",
            "remote: Compressing objects: 100% (92082/92082), done.\u001b[K\n",
            "remote: Total 92082 (delta 3), reused 92073 (delta 0), pack-reused 0\u001b[K\n",
            "Receiving objects: 100% (92082/92082), 56.75 MiB | 33.99 MiB/s, done.\n",
            "Resolving deltas: 100% (3/3), done.\n",
            "Checking out files: 100% (92004/92004), done.\n"
          ],
          "name": "stdout"
        }
      ]
    },
    {
      "cell_type": "code",
      "metadata": {
        "id": "X8kasikyM9hh",
        "colab_type": "code",
        "outputId": "88f72155-7d9c-4ee1-ce00-3d375652e319",
        "colab": {
          "base_uri": "https://localhost:8080/",
          "height": 34
        }
      },
      "source": [
        "ls"
      ],
      "execution_count": 2,
      "outputs": [
        {
          "output_type": "stream",
          "text": [
            "\u001b[0m\u001b[01;34mNepaliHandWrittenAlphabetRecognizer\u001b[0m/  \u001b[01;34msample_data\u001b[0m/\n"
          ],
          "name": "stdout"
        }
      ]
    },
    {
      "cell_type": "code",
      "metadata": {
        "id": "NSngiJhJNIB7",
        "colab_type": "code",
        "outputId": "7e4015d8-4ab2-4668-ed50-4a720cf305d3",
        "colab": {
          "base_uri": "https://localhost:8080/",
          "height": 34
        }
      },
      "source": [
        "cd NepaliHandWrittenAlphabetRecognizer"
      ],
      "execution_count": 3,
      "outputs": [
        {
          "output_type": "stream",
          "text": [
            "/content/NepaliHandWrittenAlphabetRecognizer\n"
          ],
          "name": "stdout"
        }
      ]
    },
    {
      "cell_type": "code",
      "metadata": {
        "id": "czGK9iAONLz8",
        "colab_type": "code",
        "outputId": "0b17c784-9b91-4c01-a8ba-63e450d6f363",
        "colab": {
          "base_uri": "https://localhost:8080/",
          "height": 1547
        }
      },
      "source": [
        "import cv2\n",
        "import matplotlib.pyplot as plt\n",
        "import numpy as np\n",
        "import os\n",
        "import tensorflow as tf\n",
        "from tqdm import tqdm\n",
        "import random\n",
        "from keras.utils import to_categorical\n",
        "\n",
        "\n",
        "#%matplotlib.inline \n",
        "\n",
        "PATH = os.getcwd()\n",
        "DATADIR = PATH + '/dhrcdata/Train'\t\t\n",
        "train_data_path = PATH + '/dhrcdata/Train'\n",
        "test_data_path = PATH + '/dhrcdata/Test'\n",
        "\n",
        "\n",
        "CATEGORIES = [\n",
        "\n",
        "\"character_1_ka\",\"character_2_kha\",\"character_3_ga\",\"character_4_gha\",\"character_5_kna\",\n",
        "\"character_6_cha\",\"character_7_chha\",\"character_8_ja\",\"character_9_jha\",\"character_10_yna\",\n",
        "\"character_11_taamatar\",\"character_12_thaa\",\"character_13_daa\",\"character_14_dhaa\",\"character_15_adna\",\n",
        "\"character_16_tabala\",\"character_17_tha\",\"character_18_da\",\"character_19_dha\",\"character_20_na\",\"character_21_pa\",\n",
        "\"character_22_pha\",\"character_23_ba\",\"character_24_bha\",\"character_25_ma\",\"character_26_yaw\",\"character_27_ra\",\n",
        "\"character_28_la\",\"character_29_waw\",\"character_30_motosaw\",\"character_31_petchiryakha\",\"character_32_patalosaw\",\n",
        "\"character_33_ha\",\"character_34_chhya\",\"character_35_tra\",\"character_36_gya\",\"digit_0\",\"digit_1\",\"digit_2\",\"digit_3\",\n",
        "\"digit_4\",\"digit_5\",\"digit_6\",\"digit_7\",\"digit_8\",\"digit_9\"\n",
        "\n",
        "]\n",
        "\n",
        "IMG_SIZE = 32\n",
        "training_data = []\n",
        "testing_data = []\n",
        "\n",
        "def create_training_data():\n",
        "  for catagory in CATEGORIES:\n",
        "    path = os.path.join(train_data_path, catagory)\n",
        "    class_num = CATEGORIES.index(catagory)\n",
        "    for img in os.listdir(path):\n",
        "        try:\n",
        "          img_array = cv2.imread(os.path.join(path,img),cv2.IMREAD_GRAYSCALE)\n",
        "          new_array = cv2.resize(img_array,(IMG_SIZE,IMG_SIZE))\n",
        "          training_data.append([new_array,class_num])\n",
        "        except Exception as e:\n",
        "          pass\n",
        "\n",
        "\n",
        "\n",
        "def create_testing_data():\n",
        "  for catagory in CATEGORIES:\n",
        "    path = os.path.join(test_data_path, catagory)\n",
        "    class_num = CATEGORIES.index(catagory)\n",
        "    for img in os.listdir(path):\n",
        "        try:\n",
        "          img_array = cv2.imread(os.path.join(path,img),cv2.IMREAD_GRAYSCALE)\n",
        "          new_array = cv2.resize(img_array,(IMG_SIZE,IMG_SIZE))\n",
        "          testing_data.append([new_array,class_num])\n",
        "        except Exception as e:\n",
        "          pass\n",
        "\n",
        "\n",
        "\n",
        "create_training_data()\n",
        "create_testing_data()\n",
        "\n",
        "#shuffle training data for trainning diff image set in every batch\n",
        "random.shuffle(training_data)\n",
        "\n",
        "#hot encode image dataset\n",
        "\n",
        "train_x = []\n",
        "train_y = []\n",
        "test_x = []\n",
        "test_y = []\n",
        "\n",
        "\n",
        "\n",
        "#seperating features and labels from list\n",
        "for features, labels in training_data:\n",
        "\ttrain_x.append(features)\n",
        "\ttrain_y.append(labels)\n",
        "\n",
        "for features, labels in testing_data:\n",
        "\ttest_x.append(features)\n",
        "\ttest_y.append(labels)\n",
        "\n",
        "\n",
        "#converting list to array\n",
        "train_y_array = np.array(train_y)\n",
        "test_y_array = np.array(test_y)\n",
        "\n",
        "#converting image dataset to input 32*32 dataset \n",
        "\n",
        "train_image_array = np.array(train_x).reshape(-1,32,32,1)\n",
        "test_image_array = np.array(test_x).reshape(-1,32,32,1)\n",
        "\n",
        "\n",
        "#one hot enoded class \n",
        "train_y = to_categorical(train_y_array)\n",
        "test_y = to_categorical(test_y_array)\n",
        "\n",
        "\n",
        "train_y = np.array(train_y)\n",
        "test_y = np.array(test_y)\n",
        "\n",
        "#all train x, y and test x y are in array form now\n",
        "\n",
        "\n",
        "#now creating our model\n",
        "\n",
        "from keras.models import Sequential\n",
        "from keras.layers import *\n",
        "from keras.optimizers import *\n",
        "\n",
        "model = Sequential()\n",
        "\n",
        "model.add(InputLayer(input_shape=(32,32,1)))\n",
        "model.add(Conv2D(filters=32,kernel_size=3,strides=1,padding='same', activation='relu'))\n",
        "model.add(Conv2D(filters=32,kernel_size=3,strides=1,padding='same', activation='relu'))\n",
        "model.add(MaxPool2D(pool_size=5,padding='same'))\n",
        "\n",
        "model.add(Conv2D(filters=64,kernel_size=3,strides=1,padding='same', activation='relu'))\n",
        "model.add(Conv2D(filters=64,kernel_size=3,strides=1,padding='same', activation='relu'))\n",
        "model.add(MaxPool2D(pool_size=5,padding='same'))\n",
        "\n",
        "# model.add(Conv2D(filters=80,kernel_size=3,strides=1,padding='same', activation='relu'))\n",
        "# model.add(MaxPool2D(pool_size=5,padding='same'))\n",
        "\n",
        "model.add(Dropout(0.25))\n",
        "model.add(Flatten())\n",
        "model.add(Dense(512,activation='relu'))\n",
        "model.add(Dropout(0.5))\n",
        "\n",
        "\n",
        "\n",
        "\n",
        "model.add(Dense(46,activation='softmax'))\n",
        "optimizer = Adam(lr=1e-3)\n",
        "\n",
        "model.compile(optimizer=optimizer, loss='categorical_crossentropy',metrics=['accuracy'])\n",
        "model.fit(x=train_image_array,y=train_y,epochs=30,batch_size=100, validation_split=0.3)\n",
        "\n",
        "model.summary()\n",
        "\n"
      ],
      "execution_count": 11,
      "outputs": [
        {
          "output_type": "stream",
          "text": [
            "Train on 54740 samples, validate on 23460 samples\n",
            "Epoch 1/30\n",
            "54740/54740 [==============================] - 6s 106us/step - loss: 1.9194 - acc: 0.5269 - val_loss: 0.3102 - val_acc: 0.9099\n",
            "Epoch 2/30\n",
            "54740/54740 [==============================] - 5s 88us/step - loss: 0.4583 - acc: 0.8570 - val_loss: 0.2008 - val_acc: 0.9400\n",
            "Epoch 3/30\n",
            "54740/54740 [==============================] - 5s 88us/step - loss: 0.3093 - acc: 0.9028 - val_loss: 0.1272 - val_acc: 0.9607\n",
            "Epoch 4/30\n",
            "54740/54740 [==============================] - 5s 88us/step - loss: 0.2405 - acc: 0.9242 - val_loss: 0.1024 - val_acc: 0.9686\n",
            "Epoch 5/30\n",
            "54740/54740 [==============================] - 5s 88us/step - loss: 0.1990 - acc: 0.9383 - val_loss: 0.1047 - val_acc: 0.9682\n",
            "Epoch 6/30\n",
            "54740/54740 [==============================] - 5s 88us/step - loss: 0.1761 - acc: 0.9441 - val_loss: 0.1004 - val_acc: 0.9704\n",
            "Epoch 7/30\n",
            "54740/54740 [==============================] - 5s 88us/step - loss: 0.1613 - acc: 0.9493 - val_loss: 0.0858 - val_acc: 0.9739\n",
            "Epoch 8/30\n",
            "54740/54740 [==============================] - 5s 92us/step - loss: 0.1491 - acc: 0.9524 - val_loss: 0.0900 - val_acc: 0.9725\n",
            "Epoch 9/30\n",
            "54740/54740 [==============================] - 5s 93us/step - loss: 0.1300 - acc: 0.9600 - val_loss: 0.0796 - val_acc: 0.9771\n",
            "Epoch 10/30\n",
            "54740/54740 [==============================] - 5s 89us/step - loss: 0.1256 - acc: 0.9609 - val_loss: 0.0831 - val_acc: 0.9756\n",
            "Epoch 11/30\n",
            "54740/54740 [==============================] - 5s 87us/step - loss: 0.1231 - acc: 0.9612 - val_loss: 0.0830 - val_acc: 0.9754\n",
            "Epoch 12/30\n",
            "54740/54740 [==============================] - 5s 87us/step - loss: 0.1140 - acc: 0.9642 - val_loss: 0.0734 - val_acc: 0.9788\n",
            "Epoch 13/30\n",
            "54740/54740 [==============================] - 5s 87us/step - loss: 0.1095 - acc: 0.9661 - val_loss: 0.0859 - val_acc: 0.9755\n",
            "Epoch 14/30\n",
            "54740/54740 [==============================] - 5s 87us/step - loss: 0.1044 - acc: 0.9678 - val_loss: 0.0795 - val_acc: 0.9765\n",
            "Epoch 15/30\n",
            "54740/54740 [==============================] - 5s 87us/step - loss: 0.0984 - acc: 0.9697 - val_loss: 0.0889 - val_acc: 0.9772\n",
            "Epoch 16/30\n",
            "54740/54740 [==============================] - 5s 87us/step - loss: 0.0995 - acc: 0.9691 - val_loss: 0.0755 - val_acc: 0.9790\n",
            "Epoch 17/30\n",
            "54740/54740 [==============================] - 5s 87us/step - loss: 0.0925 - acc: 0.9719 - val_loss: 0.0766 - val_acc: 0.9785\n",
            "Epoch 18/30\n",
            "54740/54740 [==============================] - 5s 87us/step - loss: 0.0940 - acc: 0.9712 - val_loss: 0.0715 - val_acc: 0.9803\n",
            "Epoch 19/30\n",
            "54740/54740 [==============================] - 5s 88us/step - loss: 0.0898 - acc: 0.9725 - val_loss: 0.0718 - val_acc: 0.9788\n",
            "Epoch 20/30\n",
            "54740/54740 [==============================] - 5s 87us/step - loss: 0.0862 - acc: 0.9735 - val_loss: 0.0719 - val_acc: 0.9793\n",
            "Epoch 21/30\n",
            "54740/54740 [==============================] - 5s 87us/step - loss: 0.0831 - acc: 0.9742 - val_loss: 0.0735 - val_acc: 0.9794\n",
            "Epoch 22/30\n",
            "54740/54740 [==============================] - 5s 88us/step - loss: 0.0854 - acc: 0.9744 - val_loss: 0.0683 - val_acc: 0.9807\n",
            "Epoch 23/30\n",
            "54740/54740 [==============================] - 5s 93us/step - loss: 0.0778 - acc: 0.9765 - val_loss: 0.0648 - val_acc: 0.9815\n",
            "Epoch 24/30\n",
            "54740/54740 [==============================] - 5s 96us/step - loss: 0.0810 - acc: 0.9749 - val_loss: 0.0676 - val_acc: 0.9811\n",
            "Epoch 25/30\n",
            "54740/54740 [==============================] - 5s 95us/step - loss: 0.0769 - acc: 0.9768 - val_loss: 0.0621 - val_acc: 0.9831\n",
            "Epoch 26/30\n",
            "54740/54740 [==============================] - 5s 92us/step - loss: 0.0771 - acc: 0.9760 - val_loss: 0.0635 - val_acc: 0.9822\n",
            "Epoch 27/30\n",
            "54740/54740 [==============================] - 5s 87us/step - loss: 0.0737 - acc: 0.9772 - val_loss: 0.0703 - val_acc: 0.9807\n",
            "Epoch 28/30\n",
            "54740/54740 [==============================] - 5s 87us/step - loss: 0.0687 - acc: 0.9790 - val_loss: 0.0692 - val_acc: 0.9815\n",
            "Epoch 29/30\n",
            "54740/54740 [==============================] - 5s 87us/step - loss: 0.0721 - acc: 0.9780 - val_loss: 0.0665 - val_acc: 0.9821\n",
            "Epoch 30/30\n",
            "54740/54740 [==============================] - 5s 87us/step - loss: 0.0677 - acc: 0.9784 - val_loss: 0.0617 - val_acc: 0.9840\n",
            "_________________________________________________________________\n",
            "Layer (type)                 Output Shape              Param #   \n",
            "=================================================================\n",
            "conv2d_16 (Conv2D)           (None, 32, 32, 32)        320       \n",
            "_________________________________________________________________\n",
            "conv2d_17 (Conv2D)           (None, 32, 32, 32)        9248      \n",
            "_________________________________________________________________\n",
            "max_pooling2d_16 (MaxPooling (None, 7, 7, 32)          0         \n",
            "_________________________________________________________________\n",
            "conv2d_18 (Conv2D)           (None, 7, 7, 64)          18496     \n",
            "_________________________________________________________________\n",
            "conv2d_19 (Conv2D)           (None, 7, 7, 64)          36928     \n",
            "_________________________________________________________________\n",
            "max_pooling2d_17 (MaxPooling (None, 2, 2, 64)          0         \n",
            "_________________________________________________________________\n",
            "dropout_14 (Dropout)         (None, 2, 2, 64)          0         \n",
            "_________________________________________________________________\n",
            "flatten_6 (Flatten)          (None, 256)               0         \n",
            "_________________________________________________________________\n",
            "dense_14 (Dense)             (None, 512)               131584    \n",
            "_________________________________________________________________\n",
            "dropout_15 (Dropout)         (None, 512)               0         \n",
            "_________________________________________________________________\n",
            "dense_15 (Dense)             (None, 46)                23598     \n",
            "=================================================================\n",
            "Total params: 220,174\n",
            "Trainable params: 220,174\n",
            "Non-trainable params: 0\n",
            "_________________________________________________________________\n"
          ],
          "name": "stdout"
        }
      ]
    },
    {
      "cell_type": "code",
      "metadata": {
        "id": "y46FbTE7NPAA",
        "colab_type": "code",
        "colab": {}
      },
      "source": [
        "model.save('androidtest_model.h5')\n",
        "model.save_weights('androidtest_weights.h5')\n"
      ],
      "execution_count": 0,
      "outputs": []
    },
    {
      "cell_type": "code",
      "metadata": {
        "id": "-vNTvdFvS_XC",
        "colab_type": "code",
        "outputId": "742c85ca-0282-499c-bd20-1be53a1576c6",
        "colab": {
          "base_uri": "https://localhost:8080/",
          "height": 51
        }
      },
      "source": [
        "ls"
      ],
      "execution_count": 6,
      "outputs": [
        {
          "output_type": "stream",
          "text": [
            "androidtest_model.h5    CNN.ipynb  \u001b[0m\u001b[01;34mdhrcdata\u001b[0m/            Untitled.ipynb\n",
            "androidtest_weights.h5  dev.py     new_cnn_may14.ipynb\n"
          ],
          "name": "stdout"
        }
      ]
    }
  ]
}
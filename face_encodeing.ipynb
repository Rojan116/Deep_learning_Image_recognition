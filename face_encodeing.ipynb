{
  "nbformat": 4,
  "nbformat_minor": 0,
  "metadata": {
    "colab": {
      "name": "face_encodeing.ipynb",
      "version": "0.3.2",
      "provenance": [],
      "collapsed_sections": [],
      "include_colab_link": true
    },
    "kernelspec": {
      "name": "python3",
      "display_name": "Python 3"
    }
  },
  "cells": [
    {
      "cell_type": "markdown",
      "metadata": {
        "id": "view-in-github",
        "colab_type": "text"
      },
      "source": [
        "<a href=\"https://colab.research.google.com/github/Rojan116/Deep_learning_Image_recognition/blob/master/face_encodeing.ipynb\" target=\"_parent\"><img src=\"https://colab.research.google.com/assets/colab-badge.svg\" alt=\"Open In Colab\"/></a>"
      ]
    },
    {
      "metadata": {
        "id": "Lkwhztay8WTF",
        "colab_type": "code",
        "colab": {
          "base_uri": "https://localhost:8080/",
          "height": 34
        },
        "outputId": "8d3e6b22-22f2-4923-9ed8-aab674a02227"
      },
      "cell_type": "code",
      "source": [
        "from google.colab import drive\n",
        "drive.mount(\"/content/drive/\")"
      ],
      "execution_count": 4,
      "outputs": [
        {
          "output_type": "stream",
          "text": [
            "Drive already mounted at /content/drive/; to attempt to forcibly remount, call drive.mount(\"/content/drive/\", force_remount=True).\n"
          ],
          "name": "stdout"
        }
      ]
    },
    {
      "metadata": {
        "id": "2RDlOiH38dVj",
        "colab_type": "code",
        "colab": {}
      },
      "cell_type": "code",
      "source": [
        "import face_recognition"
      ],
      "execution_count": 0,
      "outputs": []
    },
    {
      "metadata": {
        "id": "unEQaSYU9A5u",
        "colab_type": "code",
        "colab": {}
      },
      "cell_type": "code",
      "source": [
        "#load image file\n",
        "image = face_recognition.load_image_file(\"/content/drive/My Drive/Deeplearning_image_recognition/person.jpg\")"
      ],
      "execution_count": 0,
      "outputs": []
    },
    {
      "metadata": {
        "id": "SpQ2kQ5Y9SDG",
        "colab_type": "code",
        "colab": {}
      },
      "cell_type": "code",
      "source": [
        "#face encoding\n",
        "face_encoding = face_recognition.face_encodings(image)\n"
      ],
      "execution_count": 0,
      "outputs": []
    },
    {
      "metadata": {
        "id": "rRjVBIQI-D3V",
        "colab_type": "code",
        "colab": {
          "base_uri": "https://localhost:8080/",
          "height": 391
        },
        "outputId": "da11d574-ca49-4b98-9ffa-f6c73261a28b"
      },
      "cell_type": "code",
      "source": [
        "number_of_faces = len(face_encoding)\n",
        "if number_of_faces == 0:\n",
        "  #no face found\n",
        "  print(\"No face were detected\")\n",
        "\n",
        "  \n",
        "else:\n",
        "  first_face = face_encoding[0]\n",
        "  print(first_face)\n",
        "  "
      ],
      "execution_count": 15,
      "outputs": [
        {
          "output_type": "stream",
          "text": [
            "[-0.20855847  0.0184522   0.0520007  -0.01912923 -0.02748839 -0.01855114\n",
            " -0.02725518 -0.01845019  0.19835596 -0.01124569  0.19645655  0.01600673\n",
            " -0.15621793 -0.088624   -0.00915153  0.11604419 -0.12597206 -0.14229298\n",
            " -0.03572803 -0.03505831  0.03726114  0.03980882 -0.07782647  0.07926027\n",
            " -0.1474423  -0.34706149 -0.10856133 -0.12216788  0.01723712 -0.11650673\n",
            "  0.06511292 -0.03900211 -0.18297045 -0.109307    0.06847552  0.12637652\n",
            " -0.05037966 -0.09572247  0.13429843 -0.00703441 -0.16005874 -0.05573084\n",
            "  0.08435306  0.27441859  0.13435329  0.08523725  0.00496132 -0.11246425\n",
            "  0.16313247 -0.27373862  0.0840247   0.10128956  0.15344831  0.108321\n",
            "  0.11609223 -0.09201841  0.07474779  0.25488394 -0.30816704  0.10207565\n",
            "  0.00198602 -0.01495525  0.03411684 -0.02620054  0.21705672  0.14441349\n",
            " -0.11093321 -0.12751675  0.17208108 -0.16183102 -0.04968162  0.12839442\n",
            " -0.032075   -0.26411179 -0.31615111  0.07128876  0.36264005  0.18028155\n",
            " -0.13117115 -0.01013264 -0.05811107 -0.00737816  0.03560938  0.03457591\n",
            " -0.09948464 -0.06623523 -0.05779979 -0.01711866  0.24389139  0.1251021\n",
            "  0.00310601  0.16942365 -0.01417201 -0.02782668  0.00143111  0.06574457\n",
            " -0.10071305  0.00664653 -0.07640258 -0.0661434   0.03114729  0.03002054\n",
            "  0.07674077  0.13323891 -0.21063042  0.15302031 -0.01548968 -0.04833613\n",
            "  0.00523051 -0.02149024 -0.06463678  0.01915039  0.14195828 -0.29341793\n",
            "  0.22209316  0.12297856  0.04837464  0.15621084  0.00215637  0.00968095\n",
            " -0.03717993 -0.11729008 -0.17494743 -0.01424962  0.05999142 -0.0759041\n",
            "  0.07595522 -0.00694484]\n"
          ],
          "name": "stdout"
        }
      ]
    },
    {
      "metadata": {
        "id": "kpCgTsfA_Nri",
        "colab_type": "code",
        "colab": {}
      },
      "cell_type": "code",
      "source": [
        ""
      ],
      "execution_count": 0,
      "outputs": []
    }
  ]
}
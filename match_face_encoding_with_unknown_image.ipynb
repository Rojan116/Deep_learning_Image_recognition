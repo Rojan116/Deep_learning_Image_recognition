{
  "nbformat": 4,
  "nbformat_minor": 0,
  "metadata": {
    "colab": {
      "name": "match_face_encoding_with_unknown_image.ipynb",
      "version": "0.3.2",
      "provenance": [],
      "collapsed_sections": [],
      "include_colab_link": true
    },
    "kernelspec": {
      "name": "python3",
      "display_name": "Python 3"
    },
    "accelerator": "GPU"
  },
  "cells": [
    {
      "cell_type": "markdown",
      "metadata": {
        "id": "view-in-github",
        "colab_type": "text"
      },
      "source": [
        "<a href=\"https://colab.research.google.com/github/Rojan116/Deep_learning_Image_recognition/blob/master/match_face_encoding_with_unknown_image.ipynb\" target=\"_parent\"><img src=\"https://colab.research.google.com/assets/colab-badge.svg\" alt=\"Open In Colab\"/></a>"
      ]
    },
    {
      "metadata": {
        "id": "zR25axM1L_2Q",
        "colab_type": "code",
        "colab": {
          "base_uri": "https://localhost:8080/",
          "height": 35
        },
        "outputId": "c0795eb2-b34b-4cb4-ffba-4b62b16b1ee8"
      },
      "cell_type": "code",
      "source": [
        "from google.colab import drive\n",
        "drive.mount(\"/content/drive/\")"
      ],
      "execution_count": 1,
      "outputs": [
        {
          "output_type": "stream",
          "text": [
            "Drive already mounted at /content/drive/; to attempt to forcibly remount, call drive.mount(\"/content/drive/\", force_remount=True).\n"
          ],
          "name": "stdout"
        }
      ]
    },
    {
      "metadata": {
        "id": "LKKcpF3EMBb2",
        "colab_type": "code",
        "colab": {}
      },
      "cell_type": "code",
      "source": [
        "import face_recognition\n",
        "\n",
        "# Load the known images\n",
        "image_of_person_1 = face_recognition.load_image_file(\"/content/drive/My Drive/Deeplearning_image_recognition/person_1.jpg\")\n",
        "image_of_person_2 = face_recognition.load_image_file(\"/content/drive/My Drive/Deeplearning_image_recognition/person_2.jpg\")\n",
        "image_of_person_3 = face_recognition.load_image_file(\"/content/drive/My Drive/Deeplearning_image_recognition/person_3.jpg\")\n",
        "image_of_suhel = face_recognition.load_image_file(\"/content/drive/My Drive/Deeplearning_image_recognition/suhel.jpg\")\n",
        "\n"
      ],
      "execution_count": 0,
      "outputs": []
    },
    {
      "metadata": {
        "id": "XVPAGH5rMOSF",
        "colab_type": "code",
        "colab": {}
      },
      "cell_type": "code",
      "source": [
        "# Get the face encoding of each person. This can fail if no one is found in the photo.\n",
        "person_1_face_encoding = face_recognition.face_encodings(image_of_person_1)[0]\n",
        "person_2_face_encoding = face_recognition.face_encodings(image_of_person_2)[0]\n",
        "person_3_face_encoding = face_recognition.face_encodings(image_of_person_3)[0]\n",
        "suhel_face_encoding = face_recognition.face_encodings(image_of_suhel)[0]\n"
      ],
      "execution_count": 0,
      "outputs": []
    },
    {
      "metadata": {
        "id": "mvnJg3QjM3Nx",
        "colab_type": "code",
        "colab": {}
      },
      "cell_type": "code",
      "source": [
        "# Create a list of all known face encodings\n",
        "known_face_encodings = [\n",
        "    person_1_face_encoding,\n",
        "    person_2_face_encoding,\n",
        "    person_3_face_encoding,\n",
        "    suhel_face_encoding\n",
        "    \n",
        "]\n",
        "\n"
      ],
      "execution_count": 0,
      "outputs": []
    },
    {
      "metadata": {
        "id": "i4f_DQFmM6Ju",
        "colab_type": "code",
        "colab": {}
      },
      "cell_type": "code",
      "source": [
        "# Load the image we want to check\n",
        "unknown_image = face_recognition.load_image_file(\"/content/drive/My Drive/Deeplearning_image_recognition/suhel_unknown.jpg\")\n",
        "\n"
      ],
      "execution_count": 0,
      "outputs": []
    },
    {
      "metadata": {
        "id": "kWaQcLN8M8pF",
        "colab_type": "code",
        "colab": {}
      },
      "cell_type": "code",
      "source": [
        "# Get face encodings for any people in the picture\n",
        "unknown_face_encodings = face_recognition.face_encodings(unknown_image)\n",
        "\n"
      ],
      "execution_count": 0,
      "outputs": []
    },
    {
      "metadata": {
        "id": "6TyCDU7qNBHb",
        "colab_type": "code",
        "colab": {
          "base_uri": "https://localhost:8080/",
          "height": 54
        },
        "outputId": "606002b2-d879-412c-d866-ea31d1be3d6d"
      },
      "cell_type": "code",
      "source": [
        "# There might be more than one person in the photo, so we need to loop over each face we found\n",
        "for unknown_face_encoding in unknown_face_encodings:\n",
        "\n",
        "    # Test if this unknown face encoding matches any of the three people we know\n",
        "    results = face_recognition.compare_faces(known_face_encodings, unknown_face_encoding, tolerance=0.6)\n",
        "\n",
        "    name = \"Unknown\"\n",
        "\n",
        "    if results[0]:\n",
        "        name = \"Person 1\"\n",
        "    elif results[1]:\n",
        "        name = \"Person 2\"\n",
        "    elif results[2]:\n",
        "        name = \"Person 3\"\n",
        "        \n",
        "    elif results[3]:\n",
        "        name = \"Suhel\"\n",
        "       \n",
        "\n",
        "    print(f\"Found {name} in the photo!\")\n"
      ],
      "execution_count": 6,
      "outputs": [
        {
          "output_type": "stream",
          "text": [
            "Found Suhel in the photo!\n",
            "Found Unknown in the photo!\n"
          ],
          "name": "stdout"
        }
      ]
    },
    {
      "metadata": {
        "id": "JAR6I-QuNBqc",
        "colab_type": "code",
        "colab": {}
      },
      "cell_type": "code",
      "source": [
        ""
      ],
      "execution_count": 0,
      "outputs": []
    }
  ]
}
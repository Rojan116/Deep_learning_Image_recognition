{
  "nbformat": 4,
  "nbformat_minor": 0,
  "metadata": {
    "colab": {
      "name": "digit class augmented_cnn model 4.ipynb",
      "version": "0.3.2",
      "provenance": [],
      "collapsed_sections": [],
      "include_colab_link": true
    },
    "kernelspec": {
      "name": "python3",
      "display_name": "Python 3"
    },
    "accelerator": "GPU"
  },
  "cells": [
    {
      "cell_type": "markdown",
      "metadata": {
        "id": "view-in-github",
        "colab_type": "text"
      },
      "source": [
        "<a href=\"https://colab.research.google.com/github/Rojan116/Deep_learning_Image_recognition/blob/master/digit_class_augmented_cnn_model_4.ipynb\" target=\"_parent\"><img src=\"https://colab.research.google.com/assets/colab-badge.svg\" alt=\"Open In Colab\"/></a>"
      ]
    },
    {
      "cell_type": "code",
      "metadata": {
        "id": "Fa0w7bIx81Sq",
        "colab_type": "code",
        "outputId": "5928980d-71f2-411c-a931-48f3ee325075",
        "colab": {
          "base_uri": "https://localhost:8080/",
          "height": 34
        }
      },
      "source": [
        "!git clone https://github.com/Rojan116/NepaliHandWrittenAlphabetRecognizer.git"
      ],
      "execution_count": 1,
      "outputs": [
        {
          "output_type": "stream",
          "text": [
            "fatal: destination path 'NepaliHandWrittenAlphabetRecognizer' already exists and is not an empty directory.\n"
          ],
          "name": "stdout"
        }
      ]
    },
    {
      "cell_type": "code",
      "metadata": {
        "id": "jHtN-fzK9KOB",
        "colab_type": "code",
        "outputId": "f8de161e-a4c3-41f7-ac63-b8253b26b1a1",
        "colab": {
          "base_uri": "https://localhost:8080/",
          "height": 34
        }
      },
      "source": [
        "ls"
      ],
      "execution_count": 2,
      "outputs": [
        {
          "output_type": "stream",
          "text": [
            "\u001b[0m\u001b[01;34mNepaliHandWrittenAlphabetRecognizer\u001b[0m/  \u001b[01;34msample_data\u001b[0m/\n"
          ],
          "name": "stdout"
        }
      ]
    },
    {
      "cell_type": "code",
      "metadata": {
        "id": "6-Y4SAWO9Q1G",
        "colab_type": "code",
        "outputId": "0b759b7a-a28a-4f27-bb1c-91f48232ce7f",
        "colab": {
          "base_uri": "https://localhost:8080/",
          "height": 34
        }
      },
      "source": [
        "cd NepaliHandWrittenAlphabetRecognizer"
      ],
      "execution_count": 3,
      "outputs": [
        {
          "output_type": "stream",
          "text": [
            "/content/NepaliHandWrittenAlphabetRecognizer\n"
          ],
          "name": "stdout"
        }
      ]
    },
    {
      "cell_type": "code",
      "metadata": {
        "id": "AK0RS0g19VaY",
        "colab_type": "code",
        "outputId": "4dbec1da-7a8c-41c7-d26d-21bf7bbce7cb",
        "colab": {
          "base_uri": "https://localhost:8080/",
          "height": 34
        }
      },
      "source": [
        "import cv2\n",
        "import matplotlib.pyplot as plt\n",
        "import numpy as np\n",
        "import os\n",
        "import tensorflow as tf\n",
        "from tqdm import tqdm\n",
        "import random\n",
        "from keras.utils import to_categorical\n",
        "from keras.preprocessing.image import ImageDataGenerator\n",
        "from keras.callbacks import ReduceLROnPlateau\n",
        "\n",
        "from keras.models import Sequential\n",
        "from keras.layers import *\n",
        "from keras.optimizers import *\n",
        "import seaborn as sns\n",
        "from sklearn.metrics import classification_report, confusion_matrix"
      ],
      "execution_count": 4,
      "outputs": [
        {
          "output_type": "stream",
          "text": [
            "Using TensorFlow backend.\n"
          ],
          "name": "stderr"
        }
      ]
    },
    {
      "cell_type": "code",
      "metadata": {
        "id": "XUB5C0nB9YOg",
        "colab_type": "code",
        "colab": {}
      },
      "source": [
        "PATH = os.getcwd()\n",
        "DATADIR = PATH + '/nepalibarnasnew/Train'   \n",
        "train_data_path = PATH + '/nepalibarnasnew/Train'\n",
        "test_data_path = PATH + '/nepalibarnasnew/Test'\n"
      ],
      "execution_count": 0,
      "outputs": []
    },
    {
      "cell_type": "code",
      "metadata": {
        "id": "MOK18pvNNPTZ",
        "colab_type": "code",
        "outputId": "0f1ebbe8-a1fc-4906-c397-7bf0d5e961d6",
        "colab": {
          "base_uri": "https://localhost:8080/",
          "height": 71
        }
      },
      "source": [
        "#counting categories\n",
        "new_cat = []\n",
        "for x in os.listdir(train_data_path):\n",
        "  new_cat.append(x)\n",
        "\n",
        "print(new_cat)  \n",
        "classes = np.unique(new_cat)\n",
        "print(len(classes))\n"
      ],
      "execution_count": 6,
      "outputs": [
        {
          "output_type": "stream",
          "text": [
            "['character-34-chyan', 'digits_4', 'character-12-tha', 'digits_9', 'character-32-sa', 'digits_6', 'vowel_7_e', 'character-05-n..a', 'vowel_0_a', 'character-22-pha', 'character-28-la', 'character-20-na', 'digits_7', 'character-03-ga', 'vowel_11_am', 'character-24-bha', 'character-29-wa', 'vowel_4_u', 'vowel_2_i', 'character-15-na', 'digits_8', 'character-08-ja', 'character-09-jha', 'character-30-sa', 'character-35-tra', 'character-17-tha', 'digits_5', 'character-10-yaa', 'character-26-ya', 'character-13-da', 'character-01-ka', 'vowel_5_uu', 'vowel_12_ah', 'character-16-ta', 'character-31-sa', 'character-11-ta', 'character-19-dha', 'character-36-gyan', 'character-04-gha', 'digits_1', 'vowel_10_au', 'character-02-kha', 'character-25-ma', 'character-06-cha', 'character-21-pa', 'character-33-ha', 'character-27-ra', 'vowel_8_ei', 'digits_0', 'digits_2', 'character-14-dha', 'vowel_6_re', 'character-18-da', 'vowel_9_o', 'character-07-chha', 'vowel_1_aa', 'vowel_3_ii', 'digits_3', 'character-23-ba']\n",
            "59\n"
          ],
          "name": "stdout"
        }
      ]
    },
    {
      "cell_type": "code",
      "metadata": {
        "id": "kTFBK9wD9aqu",
        "colab_type": "code",
        "colab": {}
      },
      "source": [
        "CATEGORIES =[\n",
        "\n",
        "\"digits_0\",\"digits_1\",\"digits_2\",\"digits_3\",\n",
        "\"digits_4\",\"digits_5\",\"digits_6\",\"digits_7\",\"digits_8\",\"digits_9\"\n",
        "]"
      ],
      "execution_count": 0,
      "outputs": []
    },
    {
      "cell_type": "code",
      "metadata": {
        "id": "as1xbqAW9d5P",
        "colab_type": "code",
        "colab": {}
      },
      "source": [
        "IMG_SIZE = 32\n",
        "training_data = []\n",
        "testing_data = []\n",
        "\n",
        "def create_training_data():\n",
        "  for catagory in CATEGORIES:\n",
        "    path = os.path.join(train_data_path, catagory)\n",
        "    class_num = CATEGORIES.index(catagory)\n",
        "    for img in os.listdir(path):\n",
        "        try:\n",
        "          img_array = cv2.imread(os.path.join(path,img),cv2.IMREAD_GRAYSCALE)\n",
        "          new_array = cv2.resize(img_array,(IMG_SIZE,IMG_SIZE))\n",
        "          training_data.append([new_array,class_num])\n",
        "        except Exception as e:\n",
        "          pass\n",
        "\n",
        "\n",
        "\n",
        "def create_testing_data():\n",
        "  for catagory in CATEGORIES:\n",
        "    path = os.path.join(test_data_path, catagory)\n",
        "    class_num = CATEGORIES.index(catagory)\n",
        "    for img in os.listdir(path):\n",
        "        try:\n",
        "          img_array = cv2.imread(os.path.join(path,img),cv2.IMREAD_GRAYSCALE)\n",
        "          new_array = cv2.resize(img_array,(IMG_SIZE,IMG_SIZE))\n",
        "          testing_data.append([new_array,class_num])\n",
        "        except Exception as e:\n",
        "          pass\n",
        "\n",
        "\n",
        "\n",
        "create_training_data()\n",
        "create_testing_data()\n"
      ],
      "execution_count": 0,
      "outputs": []
    },
    {
      "cell_type": "code",
      "metadata": {
        "id": "_7a9Hftp9kSg",
        "colab_type": "code",
        "outputId": "d0fa0c04-8f07-4565-b3f6-a4f59931b577",
        "colab": {
          "base_uri": "https://localhost:8080/",
          "height": 51
        }
      },
      "source": [
        "#shuffle training data for trainning diff image set in every batch\n",
        "random.shuffle(training_data)\n",
        "\n",
        "#hot encode image dataset\n",
        "\n",
        "train_x = []\n",
        "train_y = []\n",
        "test_x = []\n",
        "test_y = []\n",
        "\n",
        "\n",
        "\n",
        "#seperating features and labels from list\n",
        "for features, labels in training_data:\n",
        "\ttrain_x.append(features)\n",
        "\ttrain_y.append(labels)\n",
        "\n",
        "for features, labels in testing_data:\n",
        "\ttest_x.append(features)\n",
        "\ttest_y.append(labels)\n",
        "\n",
        "\n",
        "#converting list to array\n",
        "train_y_array = np.array(train_y)\n",
        "test_y_array = np.array(test_y)\n",
        "\n",
        "#converting image dataset to input 32*32 dataset \n",
        "\n",
        "train_image_array = np.array(train_x).reshape(-1,32,32,1)\n",
        "test_image_array = np.array(test_x).reshape(-1,32,32,1)\n",
        "\n",
        "#counting total number of class in dataset\n",
        "classes = np.unique(test_y_array)\n",
        "print(classes)\n",
        "print(\"total number of class={} \".format(len(classes)))\n",
        "\n"
      ],
      "execution_count": 60,
      "outputs": [
        {
          "output_type": "stream",
          "text": [
            "[0 1 2 3 4 5 6 7 8 9]\n",
            "total number of class=10 \n"
          ],
          "name": "stdout"
        }
      ]
    },
    {
      "cell_type": "code",
      "metadata": {
        "id": "DJyBFLIrFs_G",
        "colab_type": "code",
        "outputId": "56351451-05ea-47e5-8df8-541aa43cfd62",
        "colab": {
          "base_uri": "https://localhost:8080/",
          "height": 269
        }
      },
      "source": [
        "# convert from int to float\n",
        "x_train = train_image_array.astype('float32')\n",
        "x_test = test_image_array.astype('float32')\n",
        "# define data preparation\n",
        "datagen = ImageDataGenerator(featurewise_center=True,\n",
        "                             featurewise_std_normalization=True,\n",
        "                             rotation_range=15,\n",
        "                             width_shift_range=0.1,\n",
        "                             height_shift_range=0.1,\n",
        "                              zoom_range=0.2\n",
        "                            )\n",
        "# fit parameters from data\n",
        "datagen.fit(x_train)\n",
        "# configure batch size and retrieve one batch of images\n",
        "for X_batch, y_batch in datagen.flow(x_train, train_y, batch_size=9):\n",
        "\t# create a grid of 3x3 images\n",
        "\tfor i in range(0, 9):\n",
        "\t\tplt.subplot(330 + 1 + i)\n",
        "\t\tplt.imshow(X_batch[i].reshape(32, 32), cmap=plt.get_cmap('gray'))\n",
        "\t# show the plot\n",
        "\tplt.show()\n",
        "\tbreak"
      ],
      "execution_count": 61,
      "outputs": [
        {
          "output_type": "display_data",
          "data": {
            "image/png": "[encoded data removed]",
            "text/plain": [
              "<Figure size 432x288 with 9 Axes>"
            ]
          },
          "metadata": {
            "tags": []
          }
        }
      ]
    },
    {
      "cell_type": "code",
      "metadata": {
        "id": "OcD8KB1rGHpt",
        "colab_type": "code",
        "colab": {}
      },
      "source": [
        "\n",
        "#one hot enoded class \n",
        "train_y = to_categorical(train_y_array)\n",
        "test_y = to_categorical(test_y_array)\n",
        "\n",
        "\n",
        "train_y = np.array(train_y)\n",
        "test_y = np.array(test_y)\n",
        "\n",
        "#all train x, y and test x y are in array form now\n"
      ],
      "execution_count": 0,
      "outputs": []
    },
    {
      "cell_type": "code",
      "metadata": {
        "id": "HTyQPCKc9AuW",
        "colab_type": "code",
        "colab": {}
      },
      "source": [
        "#new model\n",
        "\n",
        "# Set the CNN model \n",
        "# my CNN architechture is In -> [[Conv2D->relu]*2 -> MaxPool2D -> Dropout]*2 -> Flatten -> Dense -> Dropout -> Out\n",
        "\n",
        "model = Sequential()\n",
        "\n",
        "model.add(Conv2D(filters = 32, kernel_size = (5,5),padding = 'Same', \n",
        "                 activation ='relu', input_shape = (32,32,1)))\n",
        "model.add(Conv2D(filters = 32, kernel_size = (5,5),padding = 'Same', \n",
        "                 activation ='relu'))\n",
        "model.add(MaxPool2D(pool_size=(2,2)))\n",
        "model.add(Dropout(0.25))\n",
        "\n",
        "\n",
        "model.add(Conv2D(filters = 64, kernel_size = (3,3),padding = 'Same', \n",
        "                 activation ='relu'))\n",
        "model.add(Conv2D(filters = 64, kernel_size = (3,3),padding = 'Same', \n",
        "                 activation ='relu'))\n",
        "model.add(MaxPool2D(pool_size=(2,2), strides=(2,2)))\n",
        "model.add(Dropout(0.25))\n",
        "\n",
        "\n",
        "model.add(Flatten())\n",
        "model.add(Dense(256, activation = \"relu\"))\n",
        "model.add(Dropout(0.5))\n",
        "model.add(Dense(10, activation = \"softmax\"))\n",
        "\n",
        "# Define the optimizer\n",
        "#optimizer = RMSprop(lr=0.001, rho=0.9, epsilon=1e-08, decay=0.0)\n",
        "optimizer = Adam(lr=0.0001)\n",
        "\n",
        "# Compile the model\n",
        "model.compile(optimizer = optimizer , loss = \"categorical_crossentropy\", metrics=[\"accuracy\"])\n",
        "\n",
        "#model.summary()\n",
        "\n"
      ],
      "execution_count": 0,
      "outputs": []
    },
    {
      "cell_type": "code",
      "metadata": {
        "id": "ReKcDMub5t6r",
        "colab_type": "code",
        "outputId": "41d88441-9b46-439f-c545-9d38e36202c0",
        "colab": {
          "base_uri": "https://localhost:8080/",
          "height": 1000
        }
      },
      "source": [
        "history = model.fit(x=train_image_array,y=train_y,epochs=50,batch_size=100, validation_split=0.3)"
      ],
      "execution_count": 69,
      "outputs": [
        {
          "output_type": "stream",
          "text": [
            "Train on 969 samples, validate on 416 samples\n",
            "Epoch 1/50\n",
            "969/969 [==============================] - 1s 1ms/step - loss: 13.8724 - acc: 0.1063 - val_loss: 13.4061 - val_acc: 0.1058\n",
            "Epoch 2/50\n",
            "969/969 [==============================] - 0s 163us/step - loss: 14.0459 - acc: 0.1073 - val_loss: 14.2752 - val_acc: 0.1082\n",
            "Epoch 3/50\n",
            "969/969 [==============================] - 0s 162us/step - loss: 14.3275 - acc: 0.0960 - val_loss: 14.3592 - val_acc: 0.1082\n",
            "Epoch 4/50\n",
            "969/969 [==============================] - 0s 167us/step - loss: 14.2572 - acc: 0.1042 - val_loss: 13.9109 - val_acc: 0.1082\n",
            "Epoch 5/50\n",
            "969/969 [==============================] - 0s 164us/step - loss: 14.1679 - acc: 0.1104 - val_loss: 13.2085 - val_acc: 0.1514\n",
            "Epoch 6/50\n",
            "969/969 [==============================] - 0s 164us/step - loss: 14.0736 - acc: 0.1115 - val_loss: 14.6458 - val_acc: 0.0913\n",
            "Epoch 7/50\n",
            "969/969 [==============================] - 0s 171us/step - loss: 14.0947 - acc: 0.1146 - val_loss: 14.5166 - val_acc: 0.0913\n",
            "Epoch 8/50\n",
            "969/969 [==============================] - 0s 164us/step - loss: 14.1723 - acc: 0.1104 - val_loss: 13.5007 - val_acc: 0.1274\n",
            "Epoch 9/50\n",
            "969/969 [==============================] - 0s 160us/step - loss: 14.2930 - acc: 0.1042 - val_loss: 13.4373 - val_acc: 0.1442\n",
            "Epoch 10/50\n",
            "969/969 [==============================] - 0s 160us/step - loss: 14.2492 - acc: 0.1032 - val_loss: 14.2432 - val_acc: 0.0913\n",
            "Epoch 11/50\n",
            "969/969 [==============================] - 0s 159us/step - loss: 14.0004 - acc: 0.1187 - val_loss: 13.3856 - val_acc: 0.1611\n",
            "Epoch 12/50\n",
            "969/969 [==============================] - 0s 159us/step - loss: 14.1907 - acc: 0.1042 - val_loss: 13.4352 - val_acc: 0.1490\n",
            "Epoch 13/50\n",
            "969/969 [==============================] - 0s 162us/step - loss: 14.0055 - acc: 0.1176 - val_loss: 13.6957 - val_acc: 0.1106\n",
            "Epoch 14/50\n",
            "969/969 [==============================] - 0s 158us/step - loss: 13.8049 - acc: 0.1176 - val_loss: 12.3326 - val_acc: 0.1779\n",
            "Epoch 15/50\n",
            "969/969 [==============================] - 0s 159us/step - loss: 13.2644 - acc: 0.1393 - val_loss: 11.8045 - val_acc: 0.2308\n",
            "Epoch 16/50\n",
            "969/969 [==============================] - 0s 162us/step - loss: 12.8660 - acc: 0.1445 - val_loss: 11.1906 - val_acc: 0.1899\n",
            "Epoch 17/50\n",
            "969/969 [==============================] - 0s 159us/step - loss: 12.2230 - acc: 0.1600 - val_loss: 8.2993 - val_acc: 0.3942\n",
            "Epoch 18/50\n",
            "969/969 [==============================] - 0s 161us/step - loss: 9.7548 - acc: 0.2374 - val_loss: 3.0958 - val_acc: 0.4279\n",
            "Epoch 19/50\n",
            "969/969 [==============================] - 0s 161us/step - loss: 5.0192 - acc: 0.2497 - val_loss: 1.0784 - val_acc: 0.6514\n",
            "Epoch 20/50\n",
            "969/969 [==============================] - 0s 165us/step - loss: 2.0350 - acc: 0.3653 - val_loss: 1.1674 - val_acc: 0.7572\n",
            "Epoch 21/50\n",
            "969/969 [==============================] - 0s 163us/step - loss: 1.5232 - acc: 0.4737 - val_loss: 1.0864 - val_acc: 0.8197\n",
            "Epoch 22/50\n",
            "969/969 [==============================] - 0s 162us/step - loss: 1.2902 - acc: 0.5604 - val_loss: 0.8700 - val_acc: 0.8413\n",
            "Epoch 23/50\n",
            "969/969 [==============================] - 0s 160us/step - loss: 1.0869 - acc: 0.6275 - val_loss: 0.6117 - val_acc: 0.8918\n",
            "Epoch 24/50\n",
            "969/969 [==============================] - 0s 159us/step - loss: 0.8828 - acc: 0.7090 - val_loss: 0.4229 - val_acc: 0.9231\n",
            "Epoch 25/50\n",
            "969/969 [==============================] - 0s 160us/step - loss: 0.7540 - acc: 0.7389 - val_loss: 0.3287 - val_acc: 0.9327\n",
            "Epoch 26/50\n",
            "969/969 [==============================] - 0s 167us/step - loss: 0.6138 - acc: 0.7864 - val_loss: 0.2527 - val_acc: 0.9375\n",
            "Epoch 27/50\n",
            "969/969 [==============================] - 0s 160us/step - loss: 0.5202 - acc: 0.8266 - val_loss: 0.2000 - val_acc: 0.9543\n",
            "Epoch 28/50\n",
            "969/969 [==============================] - 0s 162us/step - loss: 0.5180 - acc: 0.8266 - val_loss: 0.2009 - val_acc: 0.9567\n",
            "Epoch 29/50\n",
            "969/969 [==============================] - 0s 162us/step - loss: 0.4850 - acc: 0.8442 - val_loss: 0.1799 - val_acc: 0.9615\n",
            "Epoch 30/50\n",
            "969/969 [==============================] - 0s 158us/step - loss: 0.4405 - acc: 0.8566 - val_loss: 0.1425 - val_acc: 0.9688\n",
            "Epoch 31/50\n",
            "969/969 [==============================] - 0s 161us/step - loss: 0.4192 - acc: 0.8627 - val_loss: 0.1362 - val_acc: 0.9736\n",
            "Epoch 32/50\n",
            "969/969 [==============================] - 0s 164us/step - loss: 0.3998 - acc: 0.8813 - val_loss: 0.1162 - val_acc: 0.9808\n",
            "Epoch 33/50\n",
            "969/969 [==============================] - 0s 166us/step - loss: 0.3835 - acc: 0.8824 - val_loss: 0.0926 - val_acc: 0.9856\n",
            "Epoch 34/50\n",
            "969/969 [==============================] - 0s 167us/step - loss: 0.3177 - acc: 0.8958 - val_loss: 0.0927 - val_acc: 0.9808\n",
            "Epoch 35/50\n",
            "969/969 [==============================] - 0s 163us/step - loss: 0.2726 - acc: 0.9133 - val_loss: 0.0825 - val_acc: 0.9880\n",
            "Epoch 36/50\n",
            "969/969 [==============================] - 0s 161us/step - loss: 0.2929 - acc: 0.9020 - val_loss: 0.0776 - val_acc: 0.9808\n",
            "Epoch 37/50\n",
            "969/969 [==============================] - 0s 162us/step - loss: 0.2529 - acc: 0.9205 - val_loss: 0.0732 - val_acc: 0.9832\n",
            "Epoch 38/50\n",
            "969/969 [==============================] - 0s 161us/step - loss: 0.2691 - acc: 0.9185 - val_loss: 0.0676 - val_acc: 0.9832\n",
            "Epoch 39/50\n",
            "969/969 [==============================] - 0s 165us/step - loss: 0.2671 - acc: 0.9216 - val_loss: 0.0654 - val_acc: 0.9856\n",
            "Epoch 40/50\n",
            "969/969 [==============================] - 0s 162us/step - loss: 0.1978 - acc: 0.9391 - val_loss: 0.0649 - val_acc: 0.9880\n",
            "Epoch 41/50\n",
            "969/969 [==============================] - 0s 162us/step - loss: 0.2218 - acc: 0.9226 - val_loss: 0.0568 - val_acc: 0.9880\n",
            "Epoch 42/50\n",
            "969/969 [==============================] - 0s 158us/step - loss: 0.2061 - acc: 0.9309 - val_loss: 0.0538 - val_acc: 0.9880\n",
            "Epoch 43/50\n",
            "969/969 [==============================] - 0s 161us/step - loss: 0.1948 - acc: 0.9391 - val_loss: 0.0527 - val_acc: 0.9880\n",
            "Epoch 44/50\n",
            "969/969 [==============================] - 0s 161us/step - loss: 0.1599 - acc: 0.9422 - val_loss: 0.0499 - val_acc: 0.9880\n",
            "Epoch 45/50\n",
            "969/969 [==============================] - 0s 163us/step - loss: 0.1512 - acc: 0.9494 - val_loss: 0.0458 - val_acc: 0.9880\n",
            "Epoch 46/50\n",
            "969/969 [==============================] - 0s 167us/step - loss: 0.1675 - acc: 0.9443 - val_loss: 0.0432 - val_acc: 0.9880\n",
            "Epoch 47/50\n",
            "969/969 [==============================] - 0s 164us/step - loss: 0.1572 - acc: 0.9474 - val_loss: 0.0439 - val_acc: 0.9880\n",
            "Epoch 48/50\n",
            "969/969 [==============================] - 0s 161us/step - loss: 0.1389 - acc: 0.9546 - val_loss: 0.0432 - val_acc: 0.9880\n",
            "Epoch 49/50\n",
            "969/969 [==============================] - 0s 163us/step - loss: 0.1376 - acc: 0.9536 - val_loss: 0.0381 - val_acc: 0.9880\n",
            "Epoch 50/50\n",
            "969/969 [==============================] - 0s 161us/step - loss: 0.1154 - acc: 0.9659 - val_loss: 0.0375 - val_acc: 0.9880\n"
          ],
          "name": "stdout"
        }
      ]
    },
    {
      "cell_type": "code",
      "metadata": {
        "id": "7X2QnE15CTcr",
        "colab_type": "code",
        "outputId": "08b08ed8-c801-4731-e55d-3a53f9320950",
        "colab": {
          "base_uri": "https://localhost:8080/",
          "height": 573
        }
      },
      "source": [
        "# summarize history for accuracy\n",
        "plt.plot(history.history['acc'])\n",
        "plt.plot(history.history['val_acc'])\n",
        "plt.title('model accuracy')\n",
        "plt.ylabel('accuracy')\n",
        "plt.xlabel('epoch')\n",
        "plt.legend(['train', 'test'], loc='upper left')\n",
        "plt.show()\n",
        "# summarize history for loss\n",
        "plt.plot(history.history['loss'])\n",
        "plt.plot(history.history['val_loss'])\n",
        "plt.title('model loss')\n",
        "plt.ylabel('loss')\n",
        "plt.xlabel('epoch')\n",
        "plt.legend(['train', 'test'], loc='upper left')\n",
        "plt.show()"
      ],
      "execution_count": 70,
      "outputs": [
        {
          "output_type": "display_data",
          "data": {
            "image/png": "[encoded data removed]",
            "text/plain": [
              "<Figure size 432x288 with 1 Axes>"
            ]
          },
          "metadata": {
            "tags": []
          }
        },
        {
          "output_type": "display_data",
          "data": {
            "image/png": "[encoded data removed]",
            "text/plain": [
              "<Figure size 432x288 with 1 Axes>"
            ]
          },
          "metadata": {
            "tags": []
          }
        }
      ]
    },
    {
      "cell_type": "code",
      "metadata": {
        "id": "nBNlMFqHKzvT",
        "colab_type": "code",
        "colab": {}
      },
      "source": [
        "img = test_x[72].reshape(-1,32,32,1)\n",
        "belongs_to_class = test_y[72]"
      ],
      "execution_count": 0,
      "outputs": []
    },
    {
      "cell_type": "code",
      "metadata": {
        "id": "Xtl0LNcwK9Mi",
        "colab_type": "code",
        "outputId": "c00f1c31-5d16-429c-e3fe-dab67de2bed1",
        "colab": {
          "base_uri": "https://localhost:8080/",
          "height": 34
        }
      },
      "source": [
        "print(img.shape)"
      ],
      "execution_count": 81,
      "outputs": [
        {
          "output_type": "stream",
          "text": [
            "(1, 32, 32, 1)\n"
          ],
          "name": "stdout"
        }
      ]
    },
    {
      "cell_type": "code",
      "metadata": {
        "id": "wfkrVqc61jYz",
        "colab_type": "code",
        "colab": {}
      },
      "source": [
        "x = model.predict(img)"
      ],
      "execution_count": 0,
      "outputs": []
    },
    {
      "cell_type": "code",
      "metadata": {
        "id": "nFRTZVJLSXUq",
        "colab_type": "code",
        "outputId": "a6258487-67a5-4e94-f858-7027a90eab64",
        "colab": {
          "base_uri": "https://localhost:8080/",
          "height": 51
        }
      },
      "source": [
        "print(x)"
      ],
      "execution_count": 83,
      "outputs": [
        {
          "output_type": "stream",
          "text": [
            "[[1.5757120e-03 5.6607223e-06 4.1524454e-05 3.1220869e-04 5.9228035e-04\n",
            "  2.3293610e-04 5.8009122e-03 9.5441931e-01 3.6281399e-02 7.3804712e-04]]\n"
          ],
          "name": "stdout"
        }
      ]
    },
    {
      "cell_type": "code",
      "metadata": {
        "id": "nK7scl2HR_ow",
        "colab_type": "code",
        "colab": {}
      },
      "source": [
        "name = CATEGORIES[np.argmax(x)]\n",
        "bc = CATEGORIES[np.argmax(belongs_to_class)]"
      ],
      "execution_count": 0,
      "outputs": []
    },
    {
      "cell_type": "code",
      "metadata": {
        "id": "8r1OJfbnVpJt",
        "colab_type": "code",
        "outputId": "23f9713c-5f69-404a-eae6-4097d1eeb272",
        "colab": {
          "base_uri": "https://localhost:8080/",
          "height": 303
        }
      },
      "source": [
        "%matplotlib inline\n",
        "imgplot = plt.imshow(test_x[72])\n",
        "acc=np.amax(history.history['acc'])\n",
        "acc= acc*100\n",
        "acc = np.trunc(acc)\n",
        "\n",
        "print(\"predicted image is of: {} with accuracy {}\".format(name,acc))\n",
        "print(\"Actual class label is: {}\".format(bc))\n",
        "\n"
      ],
      "execution_count": 85,
      "outputs": [
        {
          "output_type": "stream",
          "text": [
            "predicted image is of: digits_7 with accuracy 96.0\n",
            "Actual class label is: digits_7\n"
          ],
          "name": "stdout"
        },
        {
          "output_type": "display_data",
          "data": {
            "image/png": "[encoded data removed]",
            "text/plain": [
              "<Figure size 432x288 with 1 Axes>"
            ]
          },
          "metadata": {
            "tags": []
          }
        }
      ]
    },
    {
      "cell_type": "code",
      "metadata": {
        "id": "8S6af1hIWEPL",
        "colab_type": "code",
        "colab": {}
      },
      "source": [
        "y_predict = model.predict(test_image_array)"
      ],
      "execution_count": 0,
      "outputs": []
    },
    {
      "cell_type": "code",
      "metadata": {
        "id": "6HADb0G2UkFR",
        "colab_type": "code",
        "colab": {}
      },
      "source": [
        "yPred = model.predict_classes(test_image_array)"
      ],
      "execution_count": 0,
      "outputs": []
    },
    {
      "cell_type": "code",
      "metadata": {
        "id": "651yPSxWVs33",
        "colab_type": "code",
        "outputId": "28cd5f30-819d-40a4-fd31-3b6c36b3217f",
        "colab": {
          "base_uri": "https://localhost:8080/",
          "height": 34
        }
      },
      "source": [
        "yPred[1]"
      ],
      "execution_count": 88,
      "outputs": [
        {
          "output_type": "execute_result",
          "data": {
            "text/plain": [
              "0"
            ]
          },
          "metadata": {
            "tags": []
          },
          "execution_count": 88
        }
      ]
    },
    {
      "cell_type": "code",
      "metadata": {
        "id": "-RCnzGT4V2OC",
        "colab_type": "code",
        "outputId": "b6d0e479-8cbc-4b90-f190-6e94bc6c5a68",
        "colab": {
          "base_uri": "https://localhost:8080/",
          "height": 34
        }
      },
      "source": [
        "test_y[1]"
      ],
      "execution_count": 89,
      "outputs": [
        {
          "output_type": "execute_result",
          "data": {
            "text/plain": [
              "array([1., 0., 0., 0., 0., 0., 0., 0., 0., 0.], dtype=float32)"
            ]
          },
          "metadata": {
            "tags": []
          },
          "execution_count": 89
        }
      ]
    },
    {
      "cell_type": "code",
      "metadata": {
        "id": "jgGJfEB3WB5Q",
        "colab_type": "code",
        "colab": {}
      },
      "source": [
        "newtest_y=np.argmax(test_y, axis=1)"
      ],
      "execution_count": 0,
      "outputs": []
    },
    {
      "cell_type": "code",
      "metadata": {
        "id": "b5N-CWJRUxdS",
        "colab_type": "code",
        "outputId": "a5b6f2a9-1b53-4564-ff4d-27cff82593df",
        "colab": {
          "base_uri": "https://localhost:8080/",
          "height": 221
        }
      },
      "source": [
        "print(\"Confusion matrix \\n=======================\")\n",
        "print(confusion_matrix(y_true=newtest_y, y_pred=yPred))\n"
      ],
      "execution_count": 91,
      "outputs": [
        {
          "output_type": "stream",
          "text": [
            "Confusion matrix \n",
            "=======================\n",
            "[[ 9  0  0  0  0  0  0  1  0  0]\n",
            " [ 0 10  0  0  0  0  0  0  0  0]\n",
            " [ 0  0 10  0  0  0  0  0  0  0]\n",
            " [ 0  0  0 10  0  0  0  0  0  0]\n",
            " [ 0  0  0  0 10  0  0  0  0  0]\n",
            " [ 0  0  0  0  0 10  0  0  0  0]\n",
            " [ 0  0  0  0  0  0  9  0  0  1]\n",
            " [ 0  0  0  0  0  0  0 10  0  0]\n",
            " [ 0  0  0  0  0  0  0  0 10  0]\n",
            " [ 0  0  0  0  0  0  0  0  0 10]]\n"
          ],
          "name": "stdout"
        }
      ]
    },
    {
      "cell_type": "code",
      "metadata": {
        "id": "dvMNB9Kpqeic",
        "colab_type": "code",
        "colab": {}
      },
      "source": [
        "#datagen.fit(x_train)"
      ],
      "execution_count": 0,
      "outputs": []
    },
    {
      "cell_type": "code",
      "metadata": {
        "id": "Xw1lLQ9QxMt6",
        "colab_type": "code",
        "colab": {}
      },
      "source": [
        "cm = confusion_matrix(newtest_y,yPred)"
      ],
      "execution_count": 0,
      "outputs": []
    },
    {
      "cell_type": "code",
      "metadata": {
        "id": "IBBFZwOHSfev",
        "colab_type": "code",
        "outputId": "b386b926-f210-4bdd-8c43-0203584c2d78",
        "colab": {
          "base_uri": "https://localhost:8080/",
          "height": 613
        }
      },
      "source": [
        "plt.figure(figsize= (20, 10))\n",
        "\n",
        "sns.heatmap(cm, annot=True)"
      ],
      "execution_count": 94,
      "outputs": [
        {
          "output_type": "execute_result",
          "data": {
            "text/plain": [
              "<matplotlib.axes._subplots.AxesSubplot at 0x7f99d74e2710>"
            ]
          },
          "metadata": {
            "tags": []
          },
          "execution_count": 94
        },
        {
          "output_type": "display_data",
          "data": {
            "image/png": "[encoded data removed]",
            "text/plain": [
              "<Figure size 1440x720 with 2 Axes>"
            ]
          },
          "metadata": {
            "tags": []
          }
        }
      ]
    },
    {
      "cell_type": "code",
      "metadata": {
        "id": "FCvckSGgSmsG",
        "colab_type": "code",
        "colab": {}
      },
      "source": [
        ""
      ],
      "execution_count": 0,
      "outputs": []
    }
  ]
}